{
 "cells": [
  {
   "cell_type": "code",
   "execution_count": 1,
   "metadata": {},
   "outputs": [],
   "source": [
    "import pandas as pd\n",
    "from sklearn.feature_extraction.text import TfidfVectorizer\n",
    "from sklearn.ensemble import RandomForestClassifier\n",
    "\n",
    "# Import data\n",
    "train = pd.read_csv(\"train.csv\", delimiter = \",\")\n",
    "test = pd.read_csv(\"test.csv\", delimiter = \",\")"
   ]
  },
  {
   "cell_type": "code",
   "execution_count": 2,
   "metadata": {},
   "outputs": [],
   "source": [
    "# Prepare train data\n",
    "train_nona = train.dropna()\n",
    "x_train = train_nona['Reviews']\n",
    "y_train = train_nona['Rating']\n",
    "\n",
    "# Prepare test data\n",
    "x_test = test['Reviews']\n",
    "x_test = x_test.fillna('.')\n",
    "\n",
    "# Tokenizing reviews and creating feature dict\n",
    "vectorizer = TfidfVectorizer()\n",
    "x_train = vectorizer.fit_transform(x_train)\n",
    "x_test = vectorizer.transform(x_test)"
   ]
  },
  {
   "cell_type": "code",
   "execution_count": 3,
   "metadata": {},
   "outputs": [
    {
     "name": "stderr",
     "output_type": "stream",
     "text": [
      "[Parallel(n_jobs=-1)]: Using backend ThreadingBackend with 8 concurrent workers.\n",
      "[Parallel(n_jobs=-1)]: Done  34 tasks      | elapsed:  2.2min\n",
      "[Parallel(n_jobs=-1)]: Done 184 tasks      | elapsed:  9.9min\n",
      "[Parallel(n_jobs=-1)]: Done 300 out of 300 | elapsed: 16.0min finished\n",
      "[Parallel(n_jobs=8)]: Using backend ThreadingBackend with 8 concurrent workers.\n",
      "[Parallel(n_jobs=8)]: Done  34 tasks      | elapsed:    1.6s\n",
      "[Parallel(n_jobs=8)]: Done 184 tasks      | elapsed:    8.3s\n",
      "[Parallel(n_jobs=8)]: Done 300 out of 300 | elapsed:   13.8s finished\n"
     ]
    }
   ],
   "source": [
    "# Training the model\n",
    "rfc = RandomForestClassifier(n_estimators = 300, random_state = 111, n_jobs = -1, verbose = True)\n",
    "rfc.fit(x_train, y_train)\n",
    "\n",
    "# Testing the model\n",
    "predictions = rfc.predict(x_test)"
   ]
  },
  {
   "cell_type": "code",
   "execution_count": 4,
   "metadata": {},
   "outputs": [],
   "source": [
    "# Exporting results\n",
    "test['Rating'] = predictions\n",
    "results = test[['Id','Rating']]\n",
    "results.to_csv(\"results.csv\", index = False)"
   ]
  }
 ],
 "metadata": {
  "kernelspec": {
   "display_name": "Python 3",
   "language": "python",
   "name": "python3"
  },
  "language_info": {
   "codemirror_mode": {
    "name": "ipython",
    "version": 3
   },
   "file_extension": ".py",
   "mimetype": "text/x-python",
   "name": "python",
   "nbconvert_exporter": "python",
   "pygments_lexer": "ipython3",
   "version": "3.6.8"
  }
 },
 "nbformat": 4,
 "nbformat_minor": 2
}
